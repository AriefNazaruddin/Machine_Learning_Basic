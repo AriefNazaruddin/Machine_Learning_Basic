{
 "cells": [
  {
   "cell_type": "code",
   "execution_count": 24,
   "id": "2448a816-f7f6-4998-8edd-8bf830e17ff4",
   "metadata": {},
   "outputs": [],
   "source": [
    "import numpy as np\n",
    "import matplotlib.pyplot as plt"
   ]
  },
  {
   "cell_type": "code",
   "execution_count": null,
   "id": "cd2d097b-b3c3-48c6-8fe5-5811b9a486ac",
   "metadata": {},
   "outputs": [],
   "source": [
    "%matplotlib inline \n",
    "def gradient_descent(x, y):\n",
    "    m_curr = b_curr = 0\n",
    "    learning_rate = 0.01\n",
    "    n = len(x)\n",
    "    iterations = 10000\n",
    "    plt.scatter(x, y, color='red', marker='+', linewidth='5')\n",
    "    for i in range(iterations):\n",
    "        y_predicted = m_curr * x + b_curr\n",
    "        #print(m_curr, b_curr)\n",
    "        #plt.plot(x, y_predicted, color='green')\n",
    "        md = -(2/n)*sum(x*(y-y_predicted))\n",
    "        yd = -(2/n)*sum(y-y_predicted)\n",
    "        m_curr = m_curr - learning_rate * md\n",
    "        b_curr = b_curr - learning_rate * yd\n",
    "\n",
    "\n"
   ]
  },
  {
   "cell_type": "code",
   "execution_count": 29,
   "id": "504be771-dd9a-4251-9767-44e27b1b21b9",
   "metadata": {},
   "outputs": [],
   "source": [
    "x = np.array([1, 2, 3, 4, 5])\n",
    "y = np.array([5, 7, 9, 11, 13])"
   ]
  },
  {
   "cell_type": "code",
   "execution_count": null,
   "id": "86c26967-c496-4363-9553-2eef8867a2c6",
   "metadata": {},
   "outputs": [],
   "source": [
    "gradient_descent(x, y)"
   ]
  },
  {
   "cell_type": "code",
   "execution_count": null,
   "id": "f73e57f6-ae82-44ed-beda-1ba913e8f92f",
   "metadata": {},
   "outputs": [],
   "source": []
  }
 ],
 "metadata": {
  "kernelspec": {
   "display_name": "Python 3 (ipykernel)",
   "language": "python",
   "name": "python3"
  },
  "language_info": {
   "codemirror_mode": {
    "name": "ipython",
    "version": 3
   },
   "file_extension": ".py",
   "mimetype": "text/x-python",
   "name": "python",
   "nbconvert_exporter": "python",
   "pygments_lexer": "ipython3",
   "version": "3.12.3"
  }
 },
 "nbformat": 4,
 "nbformat_minor": 5
}
