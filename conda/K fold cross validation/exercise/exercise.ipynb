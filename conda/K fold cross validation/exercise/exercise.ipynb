{
 "cells": [
  {
   "cell_type": "code",
   "execution_count": 53,
   "id": "a5618deb-201b-49ee-8e2e-24b698471d5d",
   "metadata": {},
   "outputs": [],
   "source": [
    "from sklearn.datasets import load_iris\n",
    "import numpy as np\n",
    "import pandas as pd\n",
    "from sklearn.linear_model import LogisticRegression\n",
    "from sklearn.svm import SVC\n",
    "from sklearn.ensemble import RandomForestClassifier\n",
    "from sklearn.tree import DecisionTreeClassifier\n",
    "from sklearn.model_selection import cross_val_score\n",
    "\n",
    "iris = load_iris()"
   ]
  },
  {
   "cell_type": "code",
   "execution_count": 54,
   "id": "46062d58-8bc1-4696-b2ee-bccafde6ad88",
   "metadata": {},
   "outputs": [
    {
     "data": {
      "text/plain": [
       "array([0.98, 0.96, 0.98])"
      ]
     },
     "execution_count": 54,
     "metadata": {},
     "output_type": "execute_result"
    }
   ],
   "source": [
    "le_score = cross_val_score(LogisticRegression(solver='lbfgs',class_weight='balanced', max_iter=10000), iris.data, iris.target, cv=3)\n",
    "le_score"
   ]
  },
  {
   "cell_type": "code",
   "execution_count": 55,
   "id": "af52764f-f9cc-46a5-a00a-52da7b0b59b1",
   "metadata": {},
   "outputs": [
    {
     "data": {
      "text/plain": [
       "array([0.98, 0.98, 0.96])"
      ]
     },
     "execution_count": 55,
     "metadata": {},
     "output_type": "execute_result"
    }
   ],
   "source": [
    "svm_score = cross_val_score(SVC(gamma='auto'), iris.data, iris.target, cv=3)\n",
    "svm_score"
   ]
  },
  {
   "cell_type": "code",
   "execution_count": 56,
   "id": "d25fe4b9-a623-4596-95b4-c01dc5b57b69",
   "metadata": {},
   "outputs": [
    {
     "data": {
      "text/plain": [
       "array([0.98, 0.92, 0.94])"
      ]
     },
     "execution_count": 56,
     "metadata": {},
     "output_type": "execute_result"
    }
   ],
   "source": [
    "rf_score = cross_val_score(RandomForestClassifier(n_estimators=40), iris.data, iris.target, cv=3)\n",
    "rf_score"
   ]
  },
  {
   "cell_type": "code",
   "execution_count": 57,
   "id": "700afd04-5304-4a80-b0fb-e6cbd34e6367",
   "metadata": {},
   "outputs": [
    {
     "data": {
      "text/plain": [
       "array([0.98, 0.94, 1.  ])"
      ]
     },
     "execution_count": 57,
     "metadata": {},
     "output_type": "execute_result"
    }
   ],
   "source": [
    "dt_score = cross_val_score(DecisionTreeClassifier(), iris.data, iris.target, cv=3)\n",
    "dt_score"
   ]
  },
  {
   "cell_type": "code",
   "execution_count": 58,
   "id": "9da61763-7911-418d-a6aa-8d3b848e1d3f",
   "metadata": {},
   "outputs": [
    {
     "name": "stdout",
     "output_type": "stream",
     "text": [
      "Logistic Regression  : 0.9733333333333333\n",
      "Support Vector Machine : 0.9733333333333333\n",
      "Random Forest : 0.9466666666666667\n",
      "Decision Tree : 0.9733333333333333\n"
     ]
    }
   ],
   "source": [
    "print(\"Logistic Regression  : \" + str(np.average(le_score)))\n",
    "print(\"Support Vector Machine : \" + str(np.average(svm_score)))\n",
    "print(\"Random Forest : \"  + str(np.average(rf_score)))\n",
    "print(\"Decision Tree : \" + str(np.average(dt_score)))"
   ]
  },
  {
   "cell_type": "code",
   "execution_count": null,
   "id": "d89e0b96-28fd-416a-a9ab-f4408b99c520",
   "metadata": {},
   "outputs": [],
   "source": []
  }
 ],
 "metadata": {
  "kernelspec": {
   "display_name": "Python 3 (ipykernel)",
   "language": "python",
   "name": "python3"
  },
  "language_info": {
   "codemirror_mode": {
    "name": "ipython",
    "version": 3
   },
   "file_extension": ".py",
   "mimetype": "text/x-python",
   "name": "python",
   "nbconvert_exporter": "python",
   "pygments_lexer": "ipython3",
   "version": "3.12.3"
  }
 },
 "nbformat": 4,
 "nbformat_minor": 5
}
